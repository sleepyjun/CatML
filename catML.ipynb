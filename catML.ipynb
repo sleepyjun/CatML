{
  "nbformat": 4,
  "nbformat_minor": 0,
  "metadata": {
    "colab": {
      "name": "cat.ipynb의 사본",
      "provenance": [],
      "collapsed_sections": [
        "1EU0Lb6ZrQP4"
      ]
    },
    "kernelspec": {
      "display_name": "Python 3",
      "name": "python3"
    },
    "language_info": {
      "name": "python"
    }
  },
  "cells": [
    {
      "cell_type": "markdown",
      "metadata": {
        "id": "c7bSczomjkTx"
      },
      "source": [
        "# **0. Test Execution Environment**"
      ]
    },
    {
      "cell_type": "code",
      "metadata": {
        "id": "1jan2Chnjx8H"
      },
      "source": [
        "!python --version"
      ],
      "execution_count": null,
      "outputs": []
    },
    {
      "cell_type": "markdown",
      "metadata": {
        "id": "rb3c1KIwIA47"
      },
      "source": [
        "Python Version is 3.7."
      ]
    },
    {
      "cell_type": "code",
      "metadata": {
        "id": "mlHqRUV6jj5L"
      },
      "source": [
        "!nvidia-smi"
      ],
      "execution_count": null,
      "outputs": []
    },
    {
      "cell_type": "markdown",
      "metadata": {
        "id": "TI7c9MJZIHsy"
      },
      "source": [
        "If you fail plz change your run time to GPU in edit section -> note configure"
      ]
    },
    {
      "cell_type": "markdown",
      "metadata": {
        "id": "qvF-Q_YYCp3k"
      },
      "source": [
        "# **1. INIT**"
      ]
    },
    {
      "cell_type": "markdown",
      "metadata": {
        "id": "VRYyYMIdlym4"
      },
      "source": [
        "## 1-1. Mount Google Drive"
      ]
    },
    {
      "cell_type": "code",
      "metadata": {
        "id": "JqR4jtu9lpoF"
      },
      "source": [
        "%cd ..\n",
        "from google.colab import drive\n",
        "drive.mount('/content/gdrive')"
      ],
      "execution_count": null,
      "outputs": []
    },
    {
      "cell_type": "code",
      "metadata": {
        "id": "dAWS711Fl3FP"
      },
      "source": [
        "!ln -s /content/gdrive/My\\ Drive/ /mydrive\n",
        "!mkdir /mydrive/yolov4\n",
        "%cd /mydrive/yolov4"
      ],
      "execution_count": null,
      "outputs": []
    },
    {
      "cell_type": "markdown",
      "metadata": {
        "id": "z6SVktXemN4l"
      },
      "source": [
        "## 1-2. Yolo v4 install (Just FIRST INIT)"
      ]
    },
    {
      "cell_type": "markdown",
      "metadata": {
        "id": "k0F_fzFeLj5t"
      },
      "source": [
        "install in to your drive so run First Time"
      ]
    },
    {
      "cell_type": "code",
      "metadata": {
        "id": "48Eo-7NCmQTq"
      },
      "source": [
        "!git clone https://github.com/AlexeyAB/darknet"
      ],
      "execution_count": null,
      "outputs": []
    },
    {
      "cell_type": "code",
      "metadata": {
        "id": "vn6F1eKUmZps"
      },
      "source": [
        "%cd darknet/\n",
        "!sed -i 's/OPENCV=0/OPENCV=1/' Makefile\n",
        "!sed -i 's/GPU=0/GPU=1/' Makefile\n",
        "!sed -i 's/CUDNN=0/CUDNN=1/' Makefile\n",
        "!sed -i 's/CUDNN_HALF=0/CUDNN_HALF=1/' Makefile\n",
        "!sed -i 's/LIBSO=0/LIBSO=1/' Makefile"
      ],
      "execution_count": null,
      "outputs": []
    },
    {
      "cell_type": "code",
      "metadata": {
        "id": "e5jKPU2omcJy"
      },
      "source": [
        "!make"
      ],
      "execution_count": null,
      "outputs": []
    },
    {
      "cell_type": "code",
      "metadata": {
        "id": "lQ_3oJYXvoWC"
      },
      "source": [
        "!wget https://github.com/AlexeyAB/darknet/releases/download/darknet_yolo_v3_optimal/yolov4.weights"
      ],
      "execution_count": null,
      "outputs": []
    },
    {
      "cell_type": "markdown",
      "metadata": {
        "id": "o1ksOfPNuOZH"
      },
      "source": [
        "## 1-3. OpenCV"
      ]
    },
    {
      "cell_type": "markdown",
      "metadata": {
        "id": "83MOs88arczt"
      },
      "source": [
        "To use yolov4, OpenCV >= 4.4.0"
      ]
    },
    {
      "cell_type": "code",
      "metadata": {
        "id": "r_XlYTU8rTfX"
      },
      "source": [
        "pip install --upgrade opencv-python"
      ],
      "execution_count": null,
      "outputs": []
    },
    {
      "cell_type": "markdown",
      "metadata": {
        "id": "1EU0Lb6ZrQP4"
      },
      "source": [
        "### OPTION!!"
      ]
    },
    {
      "cell_type": "markdown",
      "metadata": {
        "id": "GUP3WPOXGIvO"
      },
      "source": [
        "- Reference Link\n",
        "    - [[1] Colab OpenCV With GPU](https://ichi.pro/ko/colab-eseo-gpuwa-hamkke-opencvleul-sayonghaneun-bangbeob-eun-mueos-ibnikka-41065314358367)  \n",
        "    - [[2] Colab OpenCV WIth GPU](https://hanryang1125.tistory.com/18)\n",
        "\n",
        "Difference is Python Version (2021/07 Python Version is 3.7)  \n",
        "if compile work success, result is **cv2.cpython-37m-x86_64-linux-gnu.so**"
      ]
    },
    {
      "cell_type": "markdown",
      "metadata": {
        "id": "g8Sd6UNTjQca"
      },
      "source": [
        "#### ONLY INIT ONE TIME!!"
      ]
    },
    {
      "cell_type": "markdown",
      "metadata": {
        "id": "PxOQcv2YEoTF"
      },
      "source": [
        "It takes many time (2 hours over)  \n",
        "So Be Patient!  \n",
        "\n",
        "Copy result to your drive so run only **First Time**"
      ]
    },
    {
      "cell_type": "code",
      "metadata": {
        "id": "BY-awwaPuQfo"
      },
      "source": [
        "%cd /content\n",
        "!git clone https://github.com/opencv/opencv\n",
        "!git clone https://github.com/opencv/opencv_contrib\n",
        "!mkdir /content/build\n",
        "%cd /content/build\n",
        "!cmake -DOPENCV_EXTRA_MODULES_PATH=/content/opencv_contrib/modules  -DBUILD_SHARED_LIBS=OFF  -DBUILD_TESTS=OFF  -DBUILD_PERF_TESTS=OFF -DBUILD_EXAMPLES=OFF -DWITH_OPENEXR=OFF -DWITH_CUDA=ON -DWITH_CUBLAS=ON -DWITH_CUDNN=ON -DOPENCV_DNN_CUDA=ON /content/opencv\n",
        "!make -j8 install"
      ],
      "execution_count": null,
      "outputs": []
    },
    {
      "cell_type": "code",
      "metadata": {
        "id": "dCP424_cu0qi"
      },
      "source": [
        "!mkdir /mydrive/yolov4/cv2_gpu/python3\n",
        "!cp  /content/build/lib/python3/cv2.cpython-37m-x86_64-linux-gnu.so   \"/mydrive/yolov4/cv2_gpu/python3\""
      ],
      "execution_count": null,
      "outputs": []
    },
    {
      "cell_type": "markdown",
      "metadata": {
        "id": "busSgHRsjT7Q"
      },
      "source": [
        "#### USAGE"
      ]
    },
    {
      "cell_type": "code",
      "metadata": {
        "colab": {
          "base_uri": "https://localhost:8080/"
        },
        "id": "vhaDt5YJvqxR",
        "outputId": "fb1b8532-0673-438b-c28f-3abe8b72356d"
      },
      "source": [
        "!pip uninstall opencv-python -y"
      ],
      "execution_count": null,
      "outputs": [
        {
          "output_type": "stream",
          "text": [
            "Found existing installation: opencv-python 4.1.2.30\n",
            "Uninstalling opencv-python-4.1.2.30:\n",
            "  Successfully uninstalled opencv-python-4.1.2.30\n"
          ],
          "name": "stdout"
        }
      ]
    },
    {
      "cell_type": "code",
      "metadata": {
        "id": "JFGEgNjzvWpD"
      },
      "source": [
        "!cp /mydrive/yolov4/cv2_gpu/cv2.cpython-37m-x86_64-linux-gnu.so /usr/local/lib/python3.7/dist-packages/"
      ],
      "execution_count": null,
      "outputs": []
    },
    {
      "cell_type": "markdown",
      "metadata": {
        "id": "BHppYEr9jqqa"
      },
      "source": [
        "**should reload runtime**"
      ]
    },
    {
      "cell_type": "markdown",
      "metadata": {
        "id": "LsmMKupwBtnn"
      },
      "source": [
        "#### Check"
      ]
    },
    {
      "cell_type": "code",
      "metadata": {
        "id": "CKov2hhxqZUP"
      },
      "source": [
        "import cv2\n",
        "\n",
        "print(cv2.__version__)\n",
        "print(cv2.cuda.getCudaEnabledDeviceCount())"
      ],
      "execution_count": null,
      "outputs": []
    },
    {
      "cell_type": "markdown",
      "metadata": {
        "id": "HkepPh9vHkqz"
      },
      "source": [
        "cv2 Version: 4.5.3-dev  \n",
        "cuda.getCudaEnableDeviceCount: 1  \n",
        "\n",
        "Working good"
      ]
    },
    {
      "cell_type": "markdown",
      "metadata": {
        "id": "lRglsSLNluKj"
      },
      "source": [
        "## 1-4. Fast API & Ngrok Install"
      ]
    },
    {
      "cell_type": "code",
      "metadata": {
        "id": "TXhuEnewkIvP"
      },
      "source": [
        "pip install fastapi uvicorn pyngrok nest-asyncio > /dev/null 2>&1"
      ],
      "execution_count": null,
      "outputs": []
    },
    {
      "cell_type": "markdown",
      "metadata": {
        "id": "mW5IZZWBnbec"
      },
      "source": [
        "# **2. OpenCV + YOLO v4**"
      ]
    },
    {
      "cell_type": "markdown",
      "metadata": {
        "id": "fa7XDAEnI7ID"
      },
      "source": [
        "[My Code from here](https://hanryang1125.tistory.com/9)"
      ]
    },
    {
      "cell_type": "markdown",
      "metadata": {
        "id": "F3AcVg9NMJYi"
      },
      "source": [
        "Click Run Button if error occur in FAST API"
      ]
    },
    {
      "cell_type": "markdown",
      "metadata": {
        "id": "Gdo8biDeYaia"
      },
      "source": [
        "### MAIN"
      ]
    },
    {
      "cell_type": "code",
      "metadata": {
        "id": "YSr_RtY4YaBf"
      },
      "source": [
        "import cv2\n",
        "import numpy as np\n",
        "import asyncio\n",
        "import urllib.request\n",
        "\n",
        "classes = []\n",
        "with open(\"/mydrive/yolov4/darknet/cfg/coco.names\", \"r\") as f:\n",
        "    classes = [line.strip() for line in f.readlines()]\n",
        "\n",
        "def yolo(frame, size, score_threshold, nms_threshold):\n",
        "    net = cv2.dnn.readNetFromDarknet(\"/mydrive/yolov4/darknet/cfg/yolov4.cfg\", \"/mydrive/yolov4/darknet/yolov4.weights\")\n",
        "    net.setPreferableBackend(cv2.dnn.DNN_BACKEND_CUDA)\n",
        "    net.setPreferableTarget(cv2.dnn.DNN_TARGET_CUDA)\n",
        "\n",
        "    layer_names = net.getLayerNames()\n",
        "    output_layers = [layer_names[i[0] - 1] for i in net.getUnconnectedOutLayers()]\n",
        "    # 이미지의 높이, 너비, 채널 받아오기\n",
        "    height, width, channels = frame.shape\n",
        "\n",
        "    # 네트워크에 넣기 위한 전처리\n",
        "    blob = cv2.dnn.blobFromImage(frame, 0.00392, (size, size), (0, 0, 0), True, crop=False)\n",
        "\n",
        "    # 전처리된 blob 네트워크에 입력\n",
        "    net.setInput(blob)\n",
        "\n",
        "    # 결과 받아오기\n",
        "    outs = net.forward(output_layers)\n",
        "\n",
        "    # 각각의 데이터를 저장할 빈 리스트\n",
        "    class_ids = []\n",
        "    confidences = []\n",
        "    boxes = []\n",
        "\n",
        "    for out in outs:\n",
        "        for detection in out:\n",
        "            scores = detection[5:]\n",
        "            class_id = np.argmax(scores)\n",
        "            confidence = scores[class_id]\n",
        "\n",
        "            if confidence > 0.1:\n",
        "                # 탐지된 객체의 너비, 높이 및 중앙 좌표값 찾기\n",
        "                center_x = int(detection[0] * width)\n",
        "                center_y = int(detection[1] * height)\n",
        "                w = int(detection[2] * width)\n",
        "                h = int(detection[3] * height)\n",
        "\n",
        "                # 객체의 사각형 테두리 중 좌상단 좌표값 찾기\n",
        "                x = int(center_x - w / 2)\n",
        "                y = int(center_y - h / 2)\n",
        "\n",
        "                boxes.append([x, y, w, h])\n",
        "                confidences.append(float(confidence))\n",
        "                class_ids.append(class_id)\n",
        "\n",
        "    # Non Maximum Suppression (겹쳐있는 박스 중 confidence 가 가장 높은 박스를 선택)\n",
        "    indexes = cv2.dnn.NMSBoxes(boxes, confidences, score_threshold=score_threshold, nms_threshold=nms_threshold)\n",
        "    \n",
        "    for idx in indexes:\n",
        "        class_name = classes[class_ids[idx[0]]]\n",
        "        if(class_name == \"cat\"): return True\n",
        "    return False\n",
        "\n",
        "def areYouCat(src=None):\n",
        "    # 이미지 경로\n",
        "    if(src == None): return False\n",
        "    src = src[:-1]\n",
        "\n",
        "    if \".jpg\" not in src: \n",
        "        return False\n",
        "\n",
        "    # 이미지 읽어오기\n",
        "    url_response = urllib.request.urlopen(src)\n",
        "    img_array = np.array(bytearray(url_response.read()), dtype=np.uint8)\n",
        "    img = cv2.imdecode(img_array, -1)\n",
        "\n",
        "    # 입력 사이즈 리스트 (Yolo 에서 사용되는 네크워크 입력 이미지 사이즈)\n",
        "    size_list = [320, 416, 608]\n",
        "\n",
        "    ret = yolo(frame=img, size=size_list[1], score_threshold=0.4, nms_threshold=0.4)\n",
        "    return ret"
      ],
      "execution_count": null,
      "outputs": []
    },
    {
      "cell_type": "markdown",
      "metadata": {
        "id": "fQCL3Srict5X"
      },
      "source": [
        "### Async MAIN (Not Clear..)"
      ]
    },
    {
      "cell_type": "code",
      "metadata": {
        "id": "krIW9kIPcr-k"
      },
      "source": [
        "import cv2\n",
        "import numpy as np\n",
        "import asyncio\n",
        "import urllib.request\n",
        "\n",
        "classes = []\n",
        "with open(\"/mydrive/yolov4/darknet/cfg/coco.names\", \"r\") as f:\n",
        "    classes = [line.strip() for line in f.readlines()]\n",
        "\n",
        "async def yolo(frame, size, score_threshold, nms_threshold):\n",
        "    net = cv2.dnn.readNetFromDarknet(\"/mydrive/yolov4/darknet/cfg/yolov4.cfg\", \"/mydrive/yolov4/darknet/yolov4.weights\")\n",
        "    net.setPreferableBackend(cv2.dnn.DNN_BACKEND_CUDA)\n",
        "    net.setPreferableTarget(cv2.dnn.DNN_TARGET_CUDA)\n",
        "\n",
        "    layer_names = net.getLayerNames()\n",
        "    output_layers = [layer_names[i[0] - 1] for i in net.getUnconnectedOutLayers()]\n",
        "    # 이미지의 높이, 너비, 채널 받아오기\n",
        "    height, width, channels = frame.shape\n",
        "\n",
        "    # 네트워크에 넣기 위한 전처리\n",
        "    blob = cv2.dnn.blobFromImage(frame, 0.00392, (size, size), (0, 0, 0), True, crop=False)\n",
        "\n",
        "    # 전처리된 blob 네트워크에 입력\n",
        "    net.setInput(blob)\n",
        "\n",
        "    # 결과 받아오기\n",
        "    outs = net.forward(output_layers)\n",
        "\n",
        "    # 각각의 데이터를 저장할 빈 리스트\n",
        "    class_ids = []\n",
        "    confidences = []\n",
        "    boxes = []\n",
        "\n",
        "    for out in outs:\n",
        "        for detection in out:\n",
        "            scores = detection[5:]\n",
        "            class_id = np.argmax(scores)\n",
        "            confidence = scores[class_id]\n",
        "\n",
        "            if confidence > 0.1:\n",
        "                # 탐지된 객체의 너비, 높이 및 중앙 좌표값 찾기\n",
        "                center_x = int(detection[0] * width)\n",
        "                center_y = int(detection[1] * height)\n",
        "                w = int(detection[2] * width)\n",
        "                h = int(detection[3] * height)\n",
        "\n",
        "                # 객체의 사각형 테두리 중 좌상단 좌표값 찾기\n",
        "                x = int(center_x - w / 2)\n",
        "                y = int(center_y - h / 2)\n",
        "\n",
        "                boxes.append([x, y, w, h])\n",
        "                confidences.append(float(confidence))\n",
        "                class_ids.append(class_id)\n",
        "\n",
        "    # Non Maximum Suppression (겹쳐있는 박스 중 confidence 가 가장 높은 박스를 선택)\n",
        "    indexes = cv2.dnn.NMSBoxes(boxes, confidences, score_threshold=score_threshold, nms_threshold=nms_threshold)\n",
        "    \n",
        "    for idx in indexes:\n",
        "        class_name = classes[class_ids[idx[0]]]\n",
        "        if(class_name == \"cat\"): return True\n",
        "    return False\n",
        "\n",
        "async def areYouCat(src=None):\n",
        "    # 이미지 경로\n",
        "    if(src == None): return False\n",
        "    src = src[:-1]\n",
        "\n",
        "    if \".jpg\" not in src: \n",
        "        return False\n",
        "\n",
        "    # 이미지 읽어오기\n",
        "    url_response = urllib.request.urlopen(src)\n",
        "    img_array = np.array(bytearray(url_response.read()), dtype=np.uint8)\n",
        "    img = cv2.imdecode(img_array, -1)\n",
        "\n",
        "    # 입력 사이즈 리스트 (Yolo 에서 사용되는 네크워크 입력 이미지 사이즈)\n",
        "    size_list = [320, 416, 608]\n",
        "\n",
        "    task = asyncio.create_task(yolo(frame=img, size=size_list[1], score_threshold=0.4, nms_threshold=0.4))\n",
        "    ret = await task\n",
        "    return ret"
      ],
      "execution_count": null,
      "outputs": []
    },
    {
      "cell_type": "markdown",
      "metadata": {
        "id": "cPceaUDlkGwG"
      },
      "source": [
        "# **3. FAST API**"
      ]
    },
    {
      "cell_type": "markdown",
      "metadata": {
        "id": "PCV4-c9xYwaG"
      },
      "source": [
        "### FastAPI"
      ]
    },
    {
      "cell_type": "code",
      "metadata": {
        "id": "gxJdu4usYwFg"
      },
      "source": [
        "\n",
        "from urllib.parse import unquote\n",
        "from fastapi import FastAPI, Request\n",
        "from fastapi.middleware.cors import CORSMiddleware\n",
        "import asyncio\n",
        "\n",
        "app = FastAPI()\n",
        "\n",
        "app.add_middleware(\n",
        "    CORSMiddleware,\n",
        "    allow_origins=['*'],\n",
        "    allow_credentials=True,\n",
        "    allow_methods=['*'],\n",
        "    allow_headers=['*'],\n",
        ")\n",
        "\n",
        "@app.get('/')\n",
        "async def root(request: Request):\n",
        "    url = str(request.query_params)\n",
        "    \n",
        "    if not url: return {'cat': 'false'}\n",
        "    url = unquote(url)\n",
        "\n",
        "    ret = areYouCat(url)\n",
        "    if(ret == True): return {'cat': 'true'}\n",
        "    return {'cat': 'false'}\n",
        "\n",
        "import nest_asyncio\n",
        "from pyngrok import ngrok\n",
        "import uvicorn\n",
        "\n",
        "ngrok.set_auth_token(\"YOUT AUTH TOKEN\")\n",
        "# your acccess token should be here\n",
        "# sign in to ngrok\n",
        "\n",
        "ngrok_tunnel = ngrok.connect(8000, bind_tls=True)\n",
        "\n",
        "print('Public URL:', ngrok_tunnel.public_url)\n",
        "nest_asyncio.apply()\n",
        "uvicorn.run(app, port=8000, limit_concurrency=25)"
      ],
      "execution_count": null,
      "outputs": []
    },
    {
      "cell_type": "markdown",
      "metadata": {
        "id": "V2st0W-Dl8fy"
      },
      "source": [
        "### Async FastAPI (Not Clear..)"
      ]
    },
    {
      "cell_type": "code",
      "metadata": {
        "id": "54qYVVYOeVw8"
      },
      "source": [
        "\n",
        "from urllib.parse import unquote\n",
        "from fastapi import FastAPI, Request\n",
        "from fastapi.middleware.cors import CORSMiddleware\n",
        "import asyncio\n",
        "\n",
        "app = FastAPI()\n",
        "\n",
        "app.add_middleware(\n",
        "    CORSMiddleware,\n",
        "    allow_origins=['*'],\n",
        "    allow_credentials=True,\n",
        "    allow_methods=['*'],\n",
        "    allow_headers=['*'],\n",
        ")\n",
        "\n",
        "@app.get('/')\n",
        "async def root(request: Request):\n",
        "    url = str(request.query_params)\n",
        "    \n",
        "    if not url: return {'cat': 'false'}\n",
        "    url = unquote(url)\n",
        "\n",
        "    task = asyncio.create_task(areYouCat(url))\n",
        "    ret = await task\n",
        "    if(ret == True): return {'cat': 'true'}\n",
        "    return {'cat': 'false'}\n",
        "\n",
        "import nest_asyncio\n",
        "from pyngrok import ngrok\n",
        "import uvicorn\n",
        "\n",
        "ngrok.set_auth_token(\"YOUT AUTH TOKEN\")\n",
        "# your acccess token should be here\n",
        "# sign in to ngrok\n",
        "\n",
        "ngrok_tunnel = ngrok.connect(8000, bind_tls=True)\n",
        "\n",
        "print('Public URL:', ngrok_tunnel.public_url)\n",
        "nest_asyncio.apply()\n",
        "uvicorn.run(app, port=8000, limit_concurrency=25)"
      ],
      "execution_count": null,
      "outputs": []
    },
    {
      "cell_type": "markdown",
      "metadata": {
        "id": "gES3LRESJU_N"
      },
      "source": [
        "# **4. View Section**"
      ]
    },
    {
      "cell_type": "markdown",
      "metadata": {
        "id": "jZ2BULYdJjiB"
      },
      "source": [
        "## 1. index.html"
      ]
    },
    {
      "cell_type": "markdown",
      "metadata": {
        "id": "uFyI6SBWKsuO"
      },
      "source": [
        "Using Socket.IO"
      ]
    },
    {
      "cell_type": "code",
      "metadata": {
        "id": "du7dIVKsJe2Z"
      },
      "source": [
        "<!DOCTYPE html>\n",
        "<html>\n",
        "  <head>\n",
        "    <title>Cat</title>\n",
        "    <meta charset=\"utf-8\">\n",
        "    <meta name=\"viewport\" content=\"width=device-width, initial-scale=1, shrink-to-fit=no\">\n",
        "  </head>\n",
        "  <body></body>\n",
        "  \n",
        "  <script src=\"https://cdn.socket.io/4.0.1/socket.io.min.js\"></script>\n",
        "  <script>\n",
        "    const socket = io();\n",
        "    socket.on('tweet', function(tweet){\n",
        "      let target = document.querySelector(\"body\");\n",
        "      let p = document.createElement('img');\n",
        "      \n",
        "      p.setAttribute(\"src\", tweet);\n",
        "      target.appendChild(p);\n",
        "    });\n",
        "  </script>\n",
        "</html>"
      ],
      "execution_count": null,
      "outputs": []
    },
    {
      "cell_type": "markdown",
      "metadata": {
        "id": "oS7XM1emKdDL"
      },
      "source": [
        "## 2. Server"
      ]
    },
    {
      "cell_type": "markdown",
      "metadata": {
        "id": "MQuRfdpzKx26"
      },
      "source": [
        "Using Socket.IO, Express, Node-Tweet-Stream, Node-Fetch  \n",
        "\n",
        "Usage is localhost:8080 that's it!"
      ]
    },
    {
      "cell_type": "code",
      "metadata": {
        "id": "GhycOeCTK1nM"
      },
      "source": [
        "npm install socket.io express node-tweet-stream node-fetch --save"
      ],
      "execution_count": null,
      "outputs": []
    },
    {
      "cell_type": "code",
      "metadata": {
        "id": "HTNgZb1pKp-L",
        "colab": {
          "base_uri": "https://localhost:8080/",
          "height": 136
        },
        "outputId": "76d209ed-9c0a-4e53-e948-bfa58e8ac262"
      },
      "source": [
        "const app = require('express')();\n",
        "const http = require('http').Server(app);\n",
        "const io = require('socket.io')(http);\n",
        "const port = process.env.PORT || 8080;\n",
        "\n",
        "app.get('/', function(req, res){\n",
        "  res.sendFile(__dirname + '/index.html');\n",
        "});\n",
        "\n",
        "const fetch = require('node-fetch');\n",
        "const run = async (src) => {\n",
        "  let url = \"NGROK PUBLIC_URL/?\";\n",
        "  // plz input your public_url/?\n",
        "  // YOU MUST ADD /? TO END OF URL \n",
        "  url += src;\n",
        "  const response = await fetch(url);\n",
        "  const json = await response.json();\n",
        "  \n",
        "  if(json['cat'] === 'false') return false;\n",
        "\n",
        "  return true;\n",
        "}\n",
        "\n",
        "const Twitter = require('node-tweet-stream');\n",
        "const twitter = new Twitter({\n",
        "  consumer_key: \"TWITTER API KEY\",\n",
        "  consumer_secret: \"TWITTER API KEY\",\n",
        "  token: \"TWITTER API KEY\",\n",
        "  token_secret: \"TWITTER API KEY\"\n",
        "});\n",
        "\n",
        "twitter.track('cat');\n",
        "\n",
        "//twitter.track('고양이');\n",
        "//twitter.language('ko');\n",
        "\n",
        "//twitter.track('ねこ');\n",
        "//twitter.track('ネコ');\n",
        "//twitter.track('猫');\n",
        "//twitter.language('ja');\n",
        "\n",
        "twitter.on('tweet', tweet => {\n",
        "  if(tweet.extended_entities === undefined) return;\n",
        "  let medias = tweet.extended_entities.media;\n",
        "\n",
        "  medias.forEach(media => {\n",
        "    if(media.type === 'photo') \n",
        "    {\n",
        "      run(media.media_url).then((ret => {\n",
        "        if(true === ret) \n",
        "          io.emit('tweet', media.media_url);\n",
        "      })).catch((err)=>{console.log(err)})\n",
        "    }\n",
        "  });\n",
        "});\n",
        "\n",
        "twitter.on('error', err => {\n",
        "  console.error(err);\n",
        "});\n",
        "\n",
        "http.listen(port, function(){\n",
        "  console.log('listening on *:' + port);\n",
        "});"
      ],
      "execution_count": 1,
      "outputs": [
        {
          "output_type": "error",
          "ename": "SyntaxError",
          "evalue": "ignored",
          "traceback": [
            "\u001b[0;36m  File \u001b[0;32m\"<ipython-input-1-7dd097dc32fb>\"\u001b[0;36m, line \u001b[0;32m1\u001b[0m\n\u001b[0;31m    const app = require('express')();\u001b[0m\n\u001b[0m            ^\u001b[0m\n\u001b[0;31mSyntaxError\u001b[0m\u001b[0;31m:\u001b[0m invalid syntax\n"
          ]
        }
      ]
    }
  ]
}